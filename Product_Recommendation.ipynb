{
 "cells": [
  {
   "cell_type": "markdown",
   "metadata": {},
   "source": [
    "# import the packages"
   ]
  },
  {
   "cell_type": "code",
   "execution_count": 1,
   "metadata": {},
   "outputs": [],
   "source": [
    "import pandas as pd"
   ]
  },
  {
   "cell_type": "markdown",
   "metadata": {},
   "source": [
    "# load the data"
   ]
  },
  {
   "cell_type": "code",
   "execution_count": 2,
   "metadata": {},
   "outputs": [
    {
     "data": {
      "text/html": [
       "<div>\n",
       "<style scoped>\n",
       "    .dataframe tbody tr th:only-of-type {\n",
       "        vertical-align: middle;\n",
       "    }\n",
       "\n",
       "    .dataframe tbody tr th {\n",
       "        vertical-align: top;\n",
       "    }\n",
       "\n",
       "    .dataframe thead th {\n",
       "        text-align: right;\n",
       "    }\n",
       "</style>\n",
       "<table border=\"1\" class=\"dataframe\">\n",
       "  <thead>\n",
       "    <tr style=\"text-align: right;\">\n",
       "      <th></th>\n",
       "      <th>invoice</th>\n",
       "      <th>sku</th>\n",
       "      <th>description</th>\n",
       "      <th>qty</th>\n",
       "      <th>order_date</th>\n",
       "      <th>unit_price</th>\n",
       "      <th>customer_id</th>\n",
       "      <th>country</th>\n",
       "    </tr>\n",
       "  </thead>\n",
       "  <tbody>\n",
       "    <tr>\n",
       "      <th>0</th>\n",
       "      <td>536365</td>\n",
       "      <td>85123A</td>\n",
       "      <td>WHITE HANGING HEART T-LIGHT HOLDER</td>\n",
       "      <td>6</td>\n",
       "      <td>12/1/2010 8:26</td>\n",
       "      <td>2.55</td>\n",
       "      <td>17850.0</td>\n",
       "      <td>United Kingdom</td>\n",
       "    </tr>\n",
       "    <tr>\n",
       "      <th>1</th>\n",
       "      <td>536365</td>\n",
       "      <td>71053</td>\n",
       "      <td>WHITE METAL LANTERN</td>\n",
       "      <td>6</td>\n",
       "      <td>12/1/2010 8:26</td>\n",
       "      <td>3.39</td>\n",
       "      <td>17850.0</td>\n",
       "      <td>United Kingdom</td>\n",
       "    </tr>\n",
       "    <tr>\n",
       "      <th>2</th>\n",
       "      <td>536365</td>\n",
       "      <td>84406B</td>\n",
       "      <td>CREAM CUPID HEARTS COAT HANGER</td>\n",
       "      <td>8</td>\n",
       "      <td>12/1/2010 8:26</td>\n",
       "      <td>2.75</td>\n",
       "      <td>17850.0</td>\n",
       "      <td>United Kingdom</td>\n",
       "    </tr>\n",
       "    <tr>\n",
       "      <th>3</th>\n",
       "      <td>536365</td>\n",
       "      <td>84029G</td>\n",
       "      <td>KNITTED UNION FLAG HOT WATER BOTTLE</td>\n",
       "      <td>6</td>\n",
       "      <td>12/1/2010 8:26</td>\n",
       "      <td>3.39</td>\n",
       "      <td>17850.0</td>\n",
       "      <td>United Kingdom</td>\n",
       "    </tr>\n",
       "    <tr>\n",
       "      <th>4</th>\n",
       "      <td>536365</td>\n",
       "      <td>84029E</td>\n",
       "      <td>RED WOOLLY HOTTIE WHITE HEART.</td>\n",
       "      <td>6</td>\n",
       "      <td>12/1/2010 8:26</td>\n",
       "      <td>3.39</td>\n",
       "      <td>17850.0</td>\n",
       "      <td>United Kingdom</td>\n",
       "    </tr>\n",
       "  </tbody>\n",
       "</table>\n",
       "</div>"
      ],
      "text/plain": [
       "  invoice     sku                          description  qty      order_date  \\\n",
       "0  536365  85123A   WHITE HANGING HEART T-LIGHT HOLDER    6  12/1/2010 8:26   \n",
       "1  536365   71053                  WHITE METAL LANTERN    6  12/1/2010 8:26   \n",
       "2  536365  84406B       CREAM CUPID HEARTS COAT HANGER    8  12/1/2010 8:26   \n",
       "3  536365  84029G  KNITTED UNION FLAG HOT WATER BOTTLE    6  12/1/2010 8:26   \n",
       "4  536365  84029E       RED WOOLLY HOTTIE WHITE HEART.    6  12/1/2010 8:26   \n",
       "\n",
       "   unit_price  customer_id         country  \n",
       "0        2.55      17850.0  United Kingdom  \n",
       "1        3.39      17850.0  United Kingdom  \n",
       "2        2.75      17850.0  United Kingdom  \n",
       "3        3.39      17850.0  United Kingdom  \n",
       "4        3.39      17850.0  United Kingdom  "
      ]
     },
     "execution_count": 2,
     "metadata": {},
     "output_type": "execute_result"
    }
   ],
   "source": [
    "df = pd.read_csv('online_retail.csv',names=['invoice', 'sku', 'description', 'qty', 'order_date', \n",
    "                        'unit_price', 'customer_id', 'country'],\n",
    "                low_memory=False, \n",
    "                skiprows=1, encoding= 'unicode_escape')\n",
    "df.head()"
   ]
  },
  {
   "cell_type": "markdown",
   "metadata": {},
   "source": [
    "# data preprocessing"
   ]
  },
  {
   "cell_type": "code",
   "execution_count": 3,
   "metadata": {},
   "outputs": [
    {
     "data": {
      "text/plain": [
       "invoice             0\n",
       "sku                 0\n",
       "description      1454\n",
       "qty                 0\n",
       "order_date          0\n",
       "unit_price          0\n",
       "customer_id    135080\n",
       "country             0\n",
       "dtype: int64"
      ]
     },
     "execution_count": 3,
     "metadata": {},
     "output_type": "execute_result"
    }
   ],
   "source": [
    "df.isnull().sum()"
   ]
  },
  {
   "cell_type": "code",
   "execution_count": 4,
   "metadata": {},
   "outputs": [],
   "source": [
    "df=df.dropna()"
   ]
  },
  {
   "cell_type": "code",
   "execution_count": 5,
   "metadata": {},
   "outputs": [
    {
     "data": {
      "text/plain": [
       "invoice        0\n",
       "sku            0\n",
       "description    0\n",
       "qty            0\n",
       "order_date     0\n",
       "unit_price     0\n",
       "customer_id    0\n",
       "country        0\n",
       "dtype: int64"
      ]
     },
     "execution_count": 5,
     "metadata": {},
     "output_type": "execute_result"
    }
   ],
   "source": [
    "df.isnull().sum()"
   ]
  },
  {
   "cell_type": "markdown",
   "metadata": {},
   "source": [
    "# feature engineering \n",
    "## This data set doesn’t include a line price, so to save hassle in later steps, we will first calculate this by multiplying the qty field by the unit_price field. The order_date field is also an object instead of a datetime, so we can reset this to the correct type using the Pandas to_datetime() function."
   ]
  },
  {
   "cell_type": "code",
   "execution_count": 6,
   "metadata": {},
   "outputs": [],
   "source": [
    "df['line_price'] = df['qty'] * df['unit_price']\n",
    "df['order_date'] = pd.to_datetime(df['order_date'])"
   ]
  },
  {
   "cell_type": "code",
   "execution_count": 7,
   "metadata": {},
   "outputs": [
    {
     "data": {
      "text/html": [
       "<div>\n",
       "<style scoped>\n",
       "    .dataframe tbody tr th:only-of-type {\n",
       "        vertical-align: middle;\n",
       "    }\n",
       "\n",
       "    .dataframe tbody tr th {\n",
       "        vertical-align: top;\n",
       "    }\n",
       "\n",
       "    .dataframe thead th {\n",
       "        text-align: right;\n",
       "    }\n",
       "</style>\n",
       "<table border=\"1\" class=\"dataframe\">\n",
       "  <thead>\n",
       "    <tr style=\"text-align: right;\">\n",
       "      <th></th>\n",
       "      <th>invoice</th>\n",
       "      <th>sku</th>\n",
       "      <th>description</th>\n",
       "      <th>qty</th>\n",
       "      <th>order_date</th>\n",
       "      <th>unit_price</th>\n",
       "      <th>customer_id</th>\n",
       "      <th>country</th>\n",
       "      <th>line_price</th>\n",
       "    </tr>\n",
       "  </thead>\n",
       "  <tbody>\n",
       "    <tr>\n",
       "      <th>0</th>\n",
       "      <td>536365</td>\n",
       "      <td>85123A</td>\n",
       "      <td>WHITE HANGING HEART T-LIGHT HOLDER</td>\n",
       "      <td>6</td>\n",
       "      <td>2010-12-01 08:26:00</td>\n",
       "      <td>2.55</td>\n",
       "      <td>17850.0</td>\n",
       "      <td>United Kingdom</td>\n",
       "      <td>15.30</td>\n",
       "    </tr>\n",
       "    <tr>\n",
       "      <th>1</th>\n",
       "      <td>536365</td>\n",
       "      <td>71053</td>\n",
       "      <td>WHITE METAL LANTERN</td>\n",
       "      <td>6</td>\n",
       "      <td>2010-12-01 08:26:00</td>\n",
       "      <td>3.39</td>\n",
       "      <td>17850.0</td>\n",
       "      <td>United Kingdom</td>\n",
       "      <td>20.34</td>\n",
       "    </tr>\n",
       "    <tr>\n",
       "      <th>2</th>\n",
       "      <td>536365</td>\n",
       "      <td>84406B</td>\n",
       "      <td>CREAM CUPID HEARTS COAT HANGER</td>\n",
       "      <td>8</td>\n",
       "      <td>2010-12-01 08:26:00</td>\n",
       "      <td>2.75</td>\n",
       "      <td>17850.0</td>\n",
       "      <td>United Kingdom</td>\n",
       "      <td>22.00</td>\n",
       "    </tr>\n",
       "    <tr>\n",
       "      <th>3</th>\n",
       "      <td>536365</td>\n",
       "      <td>84029G</td>\n",
       "      <td>KNITTED UNION FLAG HOT WATER BOTTLE</td>\n",
       "      <td>6</td>\n",
       "      <td>2010-12-01 08:26:00</td>\n",
       "      <td>3.39</td>\n",
       "      <td>17850.0</td>\n",
       "      <td>United Kingdom</td>\n",
       "      <td>20.34</td>\n",
       "    </tr>\n",
       "    <tr>\n",
       "      <th>4</th>\n",
       "      <td>536365</td>\n",
       "      <td>84029E</td>\n",
       "      <td>RED WOOLLY HOTTIE WHITE HEART.</td>\n",
       "      <td>6</td>\n",
       "      <td>2010-12-01 08:26:00</td>\n",
       "      <td>3.39</td>\n",
       "      <td>17850.0</td>\n",
       "      <td>United Kingdom</td>\n",
       "      <td>20.34</td>\n",
       "    </tr>\n",
       "  </tbody>\n",
       "</table>\n",
       "</div>"
      ],
      "text/plain": [
       "  invoice     sku                          description  qty  \\\n",
       "0  536365  85123A   WHITE HANGING HEART T-LIGHT HOLDER    6   \n",
       "1  536365   71053                  WHITE METAL LANTERN    6   \n",
       "2  536365  84406B       CREAM CUPID HEARTS COAT HANGER    8   \n",
       "3  536365  84029G  KNITTED UNION FLAG HOT WATER BOTTLE    6   \n",
       "4  536365  84029E       RED WOOLLY HOTTIE WHITE HEART.    6   \n",
       "\n",
       "           order_date  unit_price  customer_id         country  line_price  \n",
       "0 2010-12-01 08:26:00        2.55      17850.0  United Kingdom       15.30  \n",
       "1 2010-12-01 08:26:00        3.39      17850.0  United Kingdom       20.34  \n",
       "2 2010-12-01 08:26:00        2.75      17850.0  United Kingdom       22.00  \n",
       "3 2010-12-01 08:26:00        3.39      17850.0  United Kingdom       20.34  \n",
       "4 2010-12-01 08:26:00        3.39      17850.0  United Kingdom       20.34  "
      ]
     },
     "execution_count": 7,
     "metadata": {},
     "output_type": "execute_result"
    }
   ],
   "source": [
    "df.head()"
   ]
  },
  {
   "cell_type": "code",
   "execution_count": 8,
   "metadata": {},
   "outputs": [
    {
     "data": {
      "text/html": [
       "<div>\n",
       "<style scoped>\n",
       "    .dataframe tbody tr th:only-of-type {\n",
       "        vertical-align: middle;\n",
       "    }\n",
       "\n",
       "    .dataframe tbody tr th {\n",
       "        vertical-align: top;\n",
       "    }\n",
       "\n",
       "    .dataframe thead th {\n",
       "        text-align: right;\n",
       "    }\n",
       "</style>\n",
       "<table border=\"1\" class=\"dataframe\">\n",
       "  <thead>\n",
       "    <tr style=\"text-align: right;\">\n",
       "      <th></th>\n",
       "      <th>revenue</th>\n",
       "      <th>skus</th>\n",
       "      <th>items</th>\n",
       "    </tr>\n",
       "    <tr>\n",
       "      <th>invoice</th>\n",
       "      <th></th>\n",
       "      <th></th>\n",
       "      <th></th>\n",
       "    </tr>\n",
       "  </thead>\n",
       "  <tbody>\n",
       "    <tr>\n",
       "      <th>536365</th>\n",
       "      <td>139.12</td>\n",
       "      <td>7</td>\n",
       "      <td>40</td>\n",
       "    </tr>\n",
       "    <tr>\n",
       "      <th>536366</th>\n",
       "      <td>22.20</td>\n",
       "      <td>2</td>\n",
       "      <td>12</td>\n",
       "    </tr>\n",
       "    <tr>\n",
       "      <th>536367</th>\n",
       "      <td>278.73</td>\n",
       "      <td>12</td>\n",
       "      <td>83</td>\n",
       "    </tr>\n",
       "    <tr>\n",
       "      <th>536368</th>\n",
       "      <td>70.05</td>\n",
       "      <td>4</td>\n",
       "      <td>15</td>\n",
       "    </tr>\n",
       "    <tr>\n",
       "      <th>536369</th>\n",
       "      <td>17.85</td>\n",
       "      <td>1</td>\n",
       "      <td>3</td>\n",
       "    </tr>\n",
       "  </tbody>\n",
       "</table>\n",
       "</div>"
      ],
      "text/plain": [
       "         revenue  skus  items\n",
       "invoice                      \n",
       "536365    139.12     7     40\n",
       "536366     22.20     2     12\n",
       "536367    278.73    12     83\n",
       "536368     70.05     4     15\n",
       "536369     17.85     1      3"
      ]
     },
     "execution_count": 8,
     "metadata": {},
     "output_type": "execute_result"
    }
   ],
   "source": [
    "df_orders = df.groupby('invoice').agg(\n",
    "    revenue=('line_price', 'sum'),\n",
    "    skus=('sku', 'nunique'),\n",
    "    items=('qty', 'sum'),\n",
    ")\n",
    "\n",
    "df_orders.head()"
   ]
  },
  {
   "cell_type": "code",
   "execution_count": 9,
   "metadata": {},
   "outputs": [
    {
     "data": {
      "text/html": [
       "<div>\n",
       "<style scoped>\n",
       "    .dataframe tbody tr th:only-of-type {\n",
       "        vertical-align: middle;\n",
       "    }\n",
       "\n",
       "    .dataframe tbody tr th {\n",
       "        vertical-align: top;\n",
       "    }\n",
       "\n",
       "    .dataframe thead th {\n",
       "        text-align: right;\n",
       "    }\n",
       "</style>\n",
       "<table border=\"1\" class=\"dataframe\">\n",
       "  <thead>\n",
       "    <tr style=\"text-align: right;\">\n",
       "      <th></th>\n",
       "      <th>customer_id</th>\n",
       "      <th>revenue</th>\n",
       "      <th>orders</th>\n",
       "      <th>skus</th>\n",
       "      <th>units</th>\n",
       "      <th>first_order_date</th>\n",
       "      <th>last_order_date</th>\n",
       "    </tr>\n",
       "  </thead>\n",
       "  <tbody>\n",
       "    <tr>\n",
       "      <th>1703</th>\n",
       "      <td>14646.0</td>\n",
       "      <td>279489.02</td>\n",
       "      <td>77</td>\n",
       "      <td>703</td>\n",
       "      <td>196719</td>\n",
       "      <td>2010-12-20 10:09:00</td>\n",
       "      <td>2011-12-08 12:12:00</td>\n",
       "    </tr>\n",
       "    <tr>\n",
       "      <th>4233</th>\n",
       "      <td>18102.0</td>\n",
       "      <td>256438.49</td>\n",
       "      <td>62</td>\n",
       "      <td>151</td>\n",
       "      <td>64122</td>\n",
       "      <td>2010-12-07 16:42:00</td>\n",
       "      <td>2011-12-09 11:50:00</td>\n",
       "    </tr>\n",
       "    <tr>\n",
       "      <th>3758</th>\n",
       "      <td>17450.0</td>\n",
       "      <td>187482.17</td>\n",
       "      <td>55</td>\n",
       "      <td>127</td>\n",
       "      <td>69029</td>\n",
       "      <td>2010-12-07 09:23:00</td>\n",
       "      <td>2011-12-01 13:29:00</td>\n",
       "    </tr>\n",
       "    <tr>\n",
       "      <th>1895</th>\n",
       "      <td>14911.0</td>\n",
       "      <td>132572.62</td>\n",
       "      <td>248</td>\n",
       "      <td>1794</td>\n",
       "      <td>77180</td>\n",
       "      <td>2010-12-01 14:05:00</td>\n",
       "      <td>2011-12-08 15:54:00</td>\n",
       "    </tr>\n",
       "    <tr>\n",
       "      <th>55</th>\n",
       "      <td>12415.0</td>\n",
       "      <td>123725.45</td>\n",
       "      <td>26</td>\n",
       "      <td>444</td>\n",
       "      <td>77242</td>\n",
       "      <td>2011-01-06 11:12:00</td>\n",
       "      <td>2011-11-15 14:22:00</td>\n",
       "    </tr>\n",
       "  </tbody>\n",
       "</table>\n",
       "</div>"
      ],
      "text/plain": [
       "      customer_id    revenue  orders  skus   units    first_order_date  \\\n",
       "1703      14646.0  279489.02      77   703  196719 2010-12-20 10:09:00   \n",
       "4233      18102.0  256438.49      62   151   64122 2010-12-07 16:42:00   \n",
       "3758      17450.0  187482.17      55   127   69029 2010-12-07 09:23:00   \n",
       "1895      14911.0  132572.62     248  1794   77180 2010-12-01 14:05:00   \n",
       "55        12415.0  123725.45      26   444   77242 2011-01-06 11:12:00   \n",
       "\n",
       "         last_order_date  \n",
       "1703 2011-12-08 12:12:00  \n",
       "4233 2011-12-09 11:50:00  \n",
       "3758 2011-12-01 13:29:00  \n",
       "1895 2011-12-08 15:54:00  \n",
       "55   2011-11-15 14:22:00  "
      ]
     },
     "execution_count": 9,
     "metadata": {},
     "output_type": "execute_result"
    }
   ],
   "source": [
    "df_customers = df.groupby('customer_id').agg(\n",
    "    revenue=('line_price', 'sum'),\n",
    "    orders=('invoice', 'nunique'),\n",
    "    skus=('sku', 'nunique'),\n",
    "    units=('qty', 'sum'),\n",
    "    first_order_date=('order_date', 'min'),\n",
    "    last_order_date=('order_date', 'max')    \n",
    ").reset_index().sort_values(by='revenue', ascending=False)\n",
    "\n",
    "df_customers.head()"
   ]
  },
  {
   "cell_type": "code",
   "execution_count": 10,
   "metadata": {},
   "outputs": [
    {
     "data": {
      "text/html": [
       "<div>\n",
       "<style scoped>\n",
       "    .dataframe tbody tr th:only-of-type {\n",
       "        vertical-align: middle;\n",
       "    }\n",
       "\n",
       "    .dataframe tbody tr th {\n",
       "        vertical-align: top;\n",
       "    }\n",
       "\n",
       "    .dataframe thead th {\n",
       "        text-align: right;\n",
       "    }\n",
       "</style>\n",
       "<table border=\"1\" class=\"dataframe\">\n",
       "  <thead>\n",
       "    <tr style=\"text-align: right;\">\n",
       "      <th></th>\n",
       "      <th>units</th>\n",
       "      <th>avg_units</th>\n",
       "      <th>revenue</th>\n",
       "      <th>orders</th>\n",
       "      <th>customers</th>\n",
       "    </tr>\n",
       "    <tr>\n",
       "      <th>sku</th>\n",
       "      <th></th>\n",
       "      <th></th>\n",
       "      <th></th>\n",
       "      <th></th>\n",
       "      <th></th>\n",
       "    </tr>\n",
       "  </thead>\n",
       "  <tbody>\n",
       "    <tr>\n",
       "      <th>10002</th>\n",
       "      <td>823</td>\n",
       "      <td>16.795918</td>\n",
       "      <td>699.55</td>\n",
       "      <td>49</td>\n",
       "      <td>40</td>\n",
       "    </tr>\n",
       "    <tr>\n",
       "      <th>10080</th>\n",
       "      <td>291</td>\n",
       "      <td>13.857143</td>\n",
       "      <td>114.41</td>\n",
       "      <td>21</td>\n",
       "      <td>19</td>\n",
       "    </tr>\n",
       "    <tr>\n",
       "      <th>10120</th>\n",
       "      <td>193</td>\n",
       "      <td>6.433333</td>\n",
       "      <td>40.53</td>\n",
       "      <td>29</td>\n",
       "      <td>25</td>\n",
       "    </tr>\n",
       "    <tr>\n",
       "      <th>10123C</th>\n",
       "      <td>5</td>\n",
       "      <td>1.666667</td>\n",
       "      <td>3.25</td>\n",
       "      <td>3</td>\n",
       "      <td>3</td>\n",
       "    </tr>\n",
       "    <tr>\n",
       "      <th>10124A</th>\n",
       "      <td>16</td>\n",
       "      <td>3.200000</td>\n",
       "      <td>6.72</td>\n",
       "      <td>5</td>\n",
       "      <td>5</td>\n",
       "    </tr>\n",
       "  </tbody>\n",
       "</table>\n",
       "</div>"
      ],
      "text/plain": [
       "        units  avg_units  revenue  orders  customers\n",
       "sku                                                 \n",
       "10002     823  16.795918   699.55      49         40\n",
       "10080     291  13.857143   114.41      21         19\n",
       "10120     193   6.433333    40.53      29         25\n",
       "10123C      5   1.666667     3.25       3          3\n",
       "10124A     16   3.200000     6.72       5          5"
      ]
     },
     "execution_count": 10,
     "metadata": {},
     "output_type": "execute_result"
    }
   ],
   "source": [
    "df_products = df.groupby('sku').agg(\n",
    "    units=('qty', 'sum'),\n",
    "    avg_units=('qty', 'mean'),    \n",
    "    revenue=('line_price', 'sum'),\n",
    "    orders=('invoice', 'nunique'),\n",
    "    customers=('customer_id', 'nunique'),\n",
    ")\n",
    "\n",
    "df_products.head()"
   ]
  },
  {
   "cell_type": "code",
   "execution_count": 11,
   "metadata": {},
   "outputs": [
    {
     "data": {
      "text/html": [
       "<div>\n",
       "<style scoped>\n",
       "    .dataframe tbody tr th:only-of-type {\n",
       "        vertical-align: middle;\n",
       "    }\n",
       "\n",
       "    .dataframe tbody tr th {\n",
       "        vertical-align: top;\n",
       "    }\n",
       "\n",
       "    .dataframe thead th {\n",
       "        text-align: right;\n",
       "    }\n",
       "</style>\n",
       "<table border=\"1\" class=\"dataframe\">\n",
       "  <thead>\n",
       "    <tr style=\"text-align: right;\">\n",
       "      <th></th>\n",
       "      <th>invoice</th>\n",
       "      <th>sku</th>\n",
       "      <th>description</th>\n",
       "      <th>qty</th>\n",
       "    </tr>\n",
       "  </thead>\n",
       "  <tbody>\n",
       "    <tr>\n",
       "      <th>0</th>\n",
       "      <td>536365</td>\n",
       "      <td>85123A</td>\n",
       "      <td>WHITE HANGING HEART T-LIGHT HOLDER</td>\n",
       "      <td>6</td>\n",
       "    </tr>\n",
       "    <tr>\n",
       "      <th>1</th>\n",
       "      <td>536365</td>\n",
       "      <td>71053</td>\n",
       "      <td>WHITE METAL LANTERN</td>\n",
       "      <td>6</td>\n",
       "    </tr>\n",
       "    <tr>\n",
       "      <th>2</th>\n",
       "      <td>536365</td>\n",
       "      <td>84406B</td>\n",
       "      <td>CREAM CUPID HEARTS COAT HANGER</td>\n",
       "      <td>8</td>\n",
       "    </tr>\n",
       "    <tr>\n",
       "      <th>3</th>\n",
       "      <td>536365</td>\n",
       "      <td>84029G</td>\n",
       "      <td>KNITTED UNION FLAG HOT WATER BOTTLE</td>\n",
       "      <td>6</td>\n",
       "    </tr>\n",
       "    <tr>\n",
       "      <th>4</th>\n",
       "      <td>536365</td>\n",
       "      <td>84029E</td>\n",
       "      <td>RED WOOLLY HOTTIE WHITE HEART.</td>\n",
       "      <td>6</td>\n",
       "    </tr>\n",
       "  </tbody>\n",
       "</table>\n",
       "</div>"
      ],
      "text/plain": [
       "  invoice     sku                          description  qty\n",
       "0  536365  85123A   WHITE HANGING HEART T-LIGHT HOLDER    6\n",
       "1  536365   71053                  WHITE METAL LANTERN    6\n",
       "2  536365  84406B       CREAM CUPID HEARTS COAT HANGER    8\n",
       "3  536365  84029G  KNITTED UNION FLAG HOT WATER BOTTLE    6\n",
       "4  536365  84029E       RED WOOLLY HOTTIE WHITE HEART.    6"
      ]
     },
     "execution_count": 11,
     "metadata": {},
     "output_type": "execute_result"
    }
   ],
   "source": [
    "df_baskets = df[['invoice', 'sku', 'description', 'qty']]\n",
    "df_baskets.head()"
   ]
  },
  {
   "cell_type": "markdown",
   "metadata": {},
   "source": [
    "# Examine the most popular product\n",
    "## To get a handle on what are the most popular products, we can use groupby() and agg() to calculate some summary statistics for the products in this dataset. This shows us that the top-selling line is the WHITE HANGING HEART T-LIGHT HOLDER."
   ]
  },
  {
   "cell_type": "code",
   "execution_count": 12,
   "metadata": {},
   "outputs": [
    {
     "data": {
      "text/html": [
       "<div>\n",
       "<style scoped>\n",
       "    .dataframe tbody tr th:only-of-type {\n",
       "        vertical-align: middle;\n",
       "    }\n",
       "\n",
       "    .dataframe tbody tr th {\n",
       "        vertical-align: top;\n",
       "    }\n",
       "\n",
       "    .dataframe thead th {\n",
       "        text-align: right;\n",
       "    }\n",
       "</style>\n",
       "<table border=\"1\" class=\"dataframe\">\n",
       "  <thead>\n",
       "    <tr style=\"text-align: right;\">\n",
       "      <th></th>\n",
       "      <th>orders</th>\n",
       "      <th>quantity</th>\n",
       "    </tr>\n",
       "    <tr>\n",
       "      <th>description</th>\n",
       "      <th></th>\n",
       "      <th></th>\n",
       "    </tr>\n",
       "  </thead>\n",
       "  <tbody>\n",
       "    <tr>\n",
       "      <th>WHITE HANGING HEART T-LIGHT HOLDER</th>\n",
       "      <td>2013</td>\n",
       "      <td>34147</td>\n",
       "    </tr>\n",
       "    <tr>\n",
       "      <th>REGENCY CAKESTAND 3 TIER</th>\n",
       "      <td>1884</td>\n",
       "      <td>11555</td>\n",
       "    </tr>\n",
       "    <tr>\n",
       "      <th>JUMBO BAG RED RETROSPOT</th>\n",
       "      <td>1643</td>\n",
       "      <td>45066</td>\n",
       "    </tr>\n",
       "    <tr>\n",
       "      <th>PARTY BUNTING</th>\n",
       "      <td>1399</td>\n",
       "      <td>15027</td>\n",
       "    </tr>\n",
       "    <tr>\n",
       "      <th>ASSORTED COLOUR BIRD ORNAMENT</th>\n",
       "      <td>1385</td>\n",
       "      <td>35314</td>\n",
       "    </tr>\n",
       "    <tr>\n",
       "      <th>LUNCH BAG RED RETROSPOT</th>\n",
       "      <td>1329</td>\n",
       "      <td>17145</td>\n",
       "    </tr>\n",
       "    <tr>\n",
       "      <th>SET OF 3 CAKE TINS PANTRY DESIGN</th>\n",
       "      <td>1218</td>\n",
       "      <td>6864</td>\n",
       "    </tr>\n",
       "    <tr>\n",
       "      <th>POSTAGE</th>\n",
       "      <td>1194</td>\n",
       "      <td>3002</td>\n",
       "    </tr>\n",
       "    <tr>\n",
       "      <th>LUNCH BAG  BLACK SKULL.</th>\n",
       "      <td>1073</td>\n",
       "      <td>11173</td>\n",
       "    </tr>\n",
       "    <tr>\n",
       "      <th>PACK OF 72 RETROSPOT CAKE CASES</th>\n",
       "      <td>1041</td>\n",
       "      <td>33409</td>\n",
       "    </tr>\n",
       "  </tbody>\n",
       "</table>\n",
       "</div>"
      ],
      "text/plain": [
       "                                    orders  quantity\n",
       "description                                         \n",
       "WHITE HANGING HEART T-LIGHT HOLDER    2013     34147\n",
       "REGENCY CAKESTAND 3 TIER              1884     11555\n",
       "JUMBO BAG RED RETROSPOT               1643     45066\n",
       "PARTY BUNTING                         1399     15027\n",
       "ASSORTED COLOUR BIRD ORNAMENT         1385     35314\n",
       "LUNCH BAG RED RETROSPOT               1329     17145\n",
       "SET OF 3 CAKE TINS PANTRY DESIGN      1218      6864\n",
       "POSTAGE                               1194      3002\n",
       "LUNCH BAG  BLACK SKULL.               1073     11173\n",
       "PACK OF 72 RETROSPOT CAKE CASES       1041     33409"
      ]
     },
     "execution_count": 12,
     "metadata": {},
     "output_type": "execute_result"
    }
   ],
   "source": [
    "df.groupby('description').agg(\n",
    "    orders=('invoice', 'nunique'),\n",
    "    quantity=('qty', 'sum')\n",
    ").sort_values(by='orders', ascending=False).head(10)"
   ]
  },
  {
   "cell_type": "code",
   "execution_count": 13,
   "metadata": {},
   "outputs": [
    {
     "data": {
      "text/html": [
       "<div>\n",
       "<style scoped>\n",
       "    .dataframe tbody tr th:only-of-type {\n",
       "        vertical-align: middle;\n",
       "    }\n",
       "\n",
       "    .dataframe tbody tr th {\n",
       "        vertical-align: top;\n",
       "    }\n",
       "\n",
       "    .dataframe thead th {\n",
       "        text-align: right;\n",
       "    }\n",
       "</style>\n",
       "<table border=\"1\" class=\"dataframe\">\n",
       "  <thead>\n",
       "    <tr style=\"text-align: right;\">\n",
       "      <th>description</th>\n",
       "      <th>4 PURPLE FLOCK DINNER CANDLES</th>\n",
       "      <th>50'S CHRISTMAS GIFT BAG LARGE</th>\n",
       "      <th>DOLLY GIRL BEAKER</th>\n",
       "      <th>I LOVE LONDON MINI BACKPACK</th>\n",
       "      <th>I LOVE LONDON MINI RUCKSACK</th>\n",
       "      <th>NINE DRAWER OFFICE TIDY</th>\n",
       "      <th>OVAL WALL MIRROR DIAMANTE</th>\n",
       "      <th>RED SPOT GIFT BAG LARGE</th>\n",
       "      <th>SET 2 TEA TOWELS I LOVE LONDON</th>\n",
       "      <th>SPACEBOY BABY GIFT SET</th>\n",
       "      <th>...</th>\n",
       "      <th>ZINC STAR T-LIGHT HOLDER</th>\n",
       "      <th>ZINC SWEETHEART SOAP DISH</th>\n",
       "      <th>ZINC SWEETHEART WIRE LETTER RACK</th>\n",
       "      <th>ZINC T-LIGHT HOLDER STAR LARGE</th>\n",
       "      <th>ZINC T-LIGHT HOLDER STARS LARGE</th>\n",
       "      <th>ZINC T-LIGHT HOLDER STARS SMALL</th>\n",
       "      <th>ZINC TOP  2 DOOR WOODEN SHELF</th>\n",
       "      <th>ZINC WILLIE WINKIE  CANDLE STICK</th>\n",
       "      <th>ZINC WIRE KITCHEN ORGANISER</th>\n",
       "      <th>ZINC WIRE SWEETHEART LETTER TRAY</th>\n",
       "    </tr>\n",
       "    <tr>\n",
       "      <th>invoice</th>\n",
       "      <th></th>\n",
       "      <th></th>\n",
       "      <th></th>\n",
       "      <th></th>\n",
       "      <th></th>\n",
       "      <th></th>\n",
       "      <th></th>\n",
       "      <th></th>\n",
       "      <th></th>\n",
       "      <th></th>\n",
       "      <th></th>\n",
       "      <th></th>\n",
       "      <th></th>\n",
       "      <th></th>\n",
       "      <th></th>\n",
       "      <th></th>\n",
       "      <th></th>\n",
       "      <th></th>\n",
       "      <th></th>\n",
       "      <th></th>\n",
       "      <th></th>\n",
       "    </tr>\n",
       "  </thead>\n",
       "  <tbody>\n",
       "    <tr>\n",
       "      <th>536365</th>\n",
       "      <td>0.0</td>\n",
       "      <td>0.0</td>\n",
       "      <td>0.0</td>\n",
       "      <td>0.0</td>\n",
       "      <td>0.0</td>\n",
       "      <td>0.0</td>\n",
       "      <td>0.0</td>\n",
       "      <td>0.0</td>\n",
       "      <td>0.0</td>\n",
       "      <td>0.0</td>\n",
       "      <td>...</td>\n",
       "      <td>0.0</td>\n",
       "      <td>0.0</td>\n",
       "      <td>0.0</td>\n",
       "      <td>0.0</td>\n",
       "      <td>0.0</td>\n",
       "      <td>0.0</td>\n",
       "      <td>0.0</td>\n",
       "      <td>0.0</td>\n",
       "      <td>0.0</td>\n",
       "      <td>0.0</td>\n",
       "    </tr>\n",
       "    <tr>\n",
       "      <th>536366</th>\n",
       "      <td>0.0</td>\n",
       "      <td>0.0</td>\n",
       "      <td>0.0</td>\n",
       "      <td>0.0</td>\n",
       "      <td>0.0</td>\n",
       "      <td>0.0</td>\n",
       "      <td>0.0</td>\n",
       "      <td>0.0</td>\n",
       "      <td>0.0</td>\n",
       "      <td>0.0</td>\n",
       "      <td>...</td>\n",
       "      <td>0.0</td>\n",
       "      <td>0.0</td>\n",
       "      <td>0.0</td>\n",
       "      <td>0.0</td>\n",
       "      <td>0.0</td>\n",
       "      <td>0.0</td>\n",
       "      <td>0.0</td>\n",
       "      <td>0.0</td>\n",
       "      <td>0.0</td>\n",
       "      <td>0.0</td>\n",
       "    </tr>\n",
       "    <tr>\n",
       "      <th>536367</th>\n",
       "      <td>0.0</td>\n",
       "      <td>0.0</td>\n",
       "      <td>0.0</td>\n",
       "      <td>0.0</td>\n",
       "      <td>0.0</td>\n",
       "      <td>0.0</td>\n",
       "      <td>0.0</td>\n",
       "      <td>0.0</td>\n",
       "      <td>0.0</td>\n",
       "      <td>0.0</td>\n",
       "      <td>...</td>\n",
       "      <td>0.0</td>\n",
       "      <td>0.0</td>\n",
       "      <td>0.0</td>\n",
       "      <td>0.0</td>\n",
       "      <td>0.0</td>\n",
       "      <td>0.0</td>\n",
       "      <td>0.0</td>\n",
       "      <td>0.0</td>\n",
       "      <td>0.0</td>\n",
       "      <td>0.0</td>\n",
       "    </tr>\n",
       "  </tbody>\n",
       "</table>\n",
       "<p>3 rows × 3896 columns</p>\n",
       "</div>"
      ],
      "text/plain": [
       "description   4 PURPLE FLOCK DINNER CANDLES   50'S CHRISTMAS GIFT BAG LARGE  \\\n",
       "invoice                                                                       \n",
       "536365                                  0.0                             0.0   \n",
       "536366                                  0.0                             0.0   \n",
       "536367                                  0.0                             0.0   \n",
       "\n",
       "description   DOLLY GIRL BEAKER   I LOVE LONDON MINI BACKPACK  \\\n",
       "invoice                                                         \n",
       "536365                      0.0                           0.0   \n",
       "536366                      0.0                           0.0   \n",
       "536367                      0.0                           0.0   \n",
       "\n",
       "description   I LOVE LONDON MINI RUCKSACK   NINE DRAWER OFFICE TIDY  \\\n",
       "invoice                                                               \n",
       "536365                                0.0                       0.0   \n",
       "536366                                0.0                       0.0   \n",
       "536367                                0.0                       0.0   \n",
       "\n",
       "description   OVAL WALL MIRROR DIAMANTE    RED SPOT GIFT BAG LARGE  \\\n",
       "invoice                                                              \n",
       "536365                               0.0                       0.0   \n",
       "536366                               0.0                       0.0   \n",
       "536367                               0.0                       0.0   \n",
       "\n",
       "description   SET 2 TEA TOWELS I LOVE LONDON    SPACEBOY BABY GIFT SET  ...  \\\n",
       "invoice                                                                 ...   \n",
       "536365                                    0.0                      0.0  ...   \n",
       "536366                                    0.0                      0.0  ...   \n",
       "536367                                    0.0                      0.0  ...   \n",
       "\n",
       "description  ZINC STAR T-LIGHT HOLDER   ZINC SWEETHEART SOAP DISH  \\\n",
       "invoice                                                             \n",
       "536365                             0.0                        0.0   \n",
       "536366                             0.0                        0.0   \n",
       "536367                             0.0                        0.0   \n",
       "\n",
       "description  ZINC SWEETHEART WIRE LETTER RACK  ZINC T-LIGHT HOLDER STAR LARGE  \\\n",
       "invoice                                                                         \n",
       "536365                                    0.0                             0.0   \n",
       "536366                                    0.0                             0.0   \n",
       "536367                                    0.0                             0.0   \n",
       "\n",
       "description  ZINC T-LIGHT HOLDER STARS LARGE  ZINC T-LIGHT HOLDER STARS SMALL  \\\n",
       "invoice                                                                         \n",
       "536365                                   0.0                              0.0   \n",
       "536366                                   0.0                              0.0   \n",
       "536367                                   0.0                              0.0   \n",
       "\n",
       "description  ZINC TOP  2 DOOR WOODEN SHELF   ZINC WILLIE WINKIE  CANDLE STICK  \\\n",
       "invoice                                                                         \n",
       "536365                                  0.0                               0.0   \n",
       "536366                                  0.0                               0.0   \n",
       "536367                                  0.0                               0.0   \n",
       "\n",
       "description  ZINC WIRE KITCHEN ORGANISER  ZINC WIRE SWEETHEART LETTER TRAY  \n",
       "invoice                                                                     \n",
       "536365                               0.0                               0.0  \n",
       "536366                               0.0                               0.0  \n",
       "536367                               0.0                               0.0  \n",
       "\n",
       "[3 rows x 3896 columns]"
      ]
     },
     "execution_count": 13,
     "metadata": {},
     "output_type": "execute_result"
    }
   ],
   "source": [
    "df_items = df_baskets.pivot_table(index='invoice', columns=['description'], values='qty').fillna(0)\n",
    "df_items.head(3)"
   ]
  },
  {
   "cell_type": "markdown",
   "metadata": {},
   "source": [
    "# Create product recommendations\n",
    "## Finally, we can create a little helper function for our recommendation system to make it quick and easy to identify which products are associated with others. First, we use the corrwith() function to identify the Pearson correlation coefficient for each product with every other.\n",
    "\n",
    "## When we run the get_recommendations() function we will pass in our item matrix dataframe containing each product and the number of times it co-occurred in a basket, as well as the column name for our target product. The recommender function will then calculate the Pearson correlation for the item and return the most correlated products, thus generating accurate product recs for us to display to the user on the product detail page, or present in an email to the user.\n",
    "\n"
   ]
  },
  {
   "cell_type": "code",
   "execution_count": 14,
   "metadata": {},
   "outputs": [],
   "source": [
    "def get_recommendations(df, item):\n",
    "    \"\"\"Generate a set of product recommendations using item-based collaborative filtering.\n",
    "    \n",
    "    Args:\n",
    "        df (dataframe): Pandas dataframe containing matrix of items purchased.\n",
    "        item (string): Column name for target item. \n",
    "        \n",
    "    Returns: \n",
    "        recommendations (dataframe): Pandas dataframe containing product recommendations. \n",
    "    \"\"\"\n",
    "    \n",
    "    recommendations = df.corrwith(df[item])\n",
    "    recommendations = pd.DataFrame(recommendations, columns=['correlation']).reset_index()\n",
    "    recommendations = recommendations.sort_values(by='correlation', ascending=False)\n",
    "    \n",
    "    return recommendations"
   ]
  },
  {
   "cell_type": "code",
   "execution_count": 15,
   "metadata": {},
   "outputs": [
    {
     "data": {
      "text/html": [
       "<div>\n",
       "<style scoped>\n",
       "    .dataframe tbody tr th:only-of-type {\n",
       "        vertical-align: middle;\n",
       "    }\n",
       "\n",
       "    .dataframe tbody tr th {\n",
       "        vertical-align: top;\n",
       "    }\n",
       "\n",
       "    .dataframe thead th {\n",
       "        text-align: right;\n",
       "    }\n",
       "</style>\n",
       "<table border=\"1\" class=\"dataframe\">\n",
       "  <thead>\n",
       "    <tr style=\"text-align: right;\">\n",
       "      <th></th>\n",
       "      <th>description</th>\n",
       "      <th>correlation</th>\n",
       "    </tr>\n",
       "  </thead>\n",
       "  <tbody>\n",
       "    <tr>\n",
       "      <th>3716</th>\n",
       "      <td>WHITE HANGING HEART T-LIGHT HOLDER</td>\n",
       "      <td>1.000000</td>\n",
       "    </tr>\n",
       "    <tr>\n",
       "      <th>1396</th>\n",
       "      <td>GIN + TONIC DIET METAL SIGN</td>\n",
       "      <td>0.825321</td>\n",
       "    </tr>\n",
       "    <tr>\n",
       "      <th>1168</th>\n",
       "      <td>FAIRY CAKE FLANNEL ASSORTED COLOUR</td>\n",
       "      <td>0.821271</td>\n",
       "    </tr>\n",
       "    <tr>\n",
       "      <th>1018</th>\n",
       "      <td>DOORMAT FAIRY CAKE</td>\n",
       "      <td>0.483746</td>\n",
       "    </tr>\n",
       "    <tr>\n",
       "      <th>3436</th>\n",
       "      <td>TEA TIME PARTY BUNTING</td>\n",
       "      <td>0.469531</td>\n",
       "    </tr>\n",
       "  </tbody>\n",
       "</table>\n",
       "</div>"
      ],
      "text/plain": [
       "                             description  correlation\n",
       "3716  WHITE HANGING HEART T-LIGHT HOLDER     1.000000\n",
       "1396         GIN + TONIC DIET METAL SIGN     0.825321\n",
       "1168  FAIRY CAKE FLANNEL ASSORTED COLOUR     0.821271\n",
       "1018                  DOORMAT FAIRY CAKE     0.483746\n",
       "3436              TEA TIME PARTY BUNTING     0.469531"
      ]
     },
     "execution_count": 15,
     "metadata": {},
     "output_type": "execute_result"
    }
   ],
   "source": [
    "recommendations = get_recommendations(df_items, 'WHITE HANGING HEART T-LIGHT HOLDER')\n",
    "recommendations.head()"
   ]
  },
  {
   "cell_type": "code",
   "execution_count": 16,
   "metadata": {},
   "outputs": [
    {
     "data": {
      "text/html": [
       "<div>\n",
       "<style scoped>\n",
       "    .dataframe tbody tr th:only-of-type {\n",
       "        vertical-align: middle;\n",
       "    }\n",
       "\n",
       "    .dataframe tbody tr th {\n",
       "        vertical-align: top;\n",
       "    }\n",
       "\n",
       "    .dataframe thead th {\n",
       "        text-align: right;\n",
       "    }\n",
       "</style>\n",
       "<table border=\"1\" class=\"dataframe\">\n",
       "  <thead>\n",
       "    <tr style=\"text-align: right;\">\n",
       "      <th></th>\n",
       "      <th>description</th>\n",
       "      <th>correlation</th>\n",
       "    </tr>\n",
       "  </thead>\n",
       "  <tbody>\n",
       "    <tr>\n",
       "      <th>2355</th>\n",
       "      <td>PARTY BUNTING</td>\n",
       "      <td>1.000000</td>\n",
       "    </tr>\n",
       "    <tr>\n",
       "      <th>3338</th>\n",
       "      <td>SPOTTY BUNTING</td>\n",
       "      <td>0.258734</td>\n",
       "    </tr>\n",
       "    <tr>\n",
       "      <th>33</th>\n",
       "      <td>18PC WOODEN CUTLERY SET DISPOSABLE</td>\n",
       "      <td>0.178650</td>\n",
       "    </tr>\n",
       "    <tr>\n",
       "      <th>110</th>\n",
       "      <td>6PC WOOD PLATE SET DISPOSABLE</td>\n",
       "      <td>0.169431</td>\n",
       "    </tr>\n",
       "    <tr>\n",
       "      <th>3376</th>\n",
       "      <td>STRAWBERRY RAFFIA FOOD COVER</td>\n",
       "      <td>0.134040</td>\n",
       "    </tr>\n",
       "  </tbody>\n",
       "</table>\n",
       "</div>"
      ],
      "text/plain": [
       "                             description  correlation\n",
       "2355                       PARTY BUNTING     1.000000\n",
       "3338                      SPOTTY BUNTING     0.258734\n",
       "33    18PC WOODEN CUTLERY SET DISPOSABLE     0.178650\n",
       "110        6PC WOOD PLATE SET DISPOSABLE     0.169431\n",
       "3376        STRAWBERRY RAFFIA FOOD COVER     0.134040"
      ]
     },
     "execution_count": 16,
     "metadata": {},
     "output_type": "execute_result"
    }
   ],
   "source": [
    "recommendations = get_recommendations(df_items, 'PARTY BUNTING')\n",
    "recommendations.head()"
   ]
  },
  {
   "cell_type": "code",
   "execution_count": 17,
   "metadata": {},
   "outputs": [
    {
     "data": {
      "text/html": [
       "<div>\n",
       "<style scoped>\n",
       "    .dataframe tbody tr th:only-of-type {\n",
       "        vertical-align: middle;\n",
       "    }\n",
       "\n",
       "    .dataframe tbody tr th {\n",
       "        vertical-align: top;\n",
       "    }\n",
       "\n",
       "    .dataframe thead th {\n",
       "        text-align: right;\n",
       "    }\n",
       "</style>\n",
       "<table border=\"1\" class=\"dataframe\">\n",
       "  <thead>\n",
       "    <tr style=\"text-align: right;\">\n",
       "      <th></th>\n",
       "      <th>description</th>\n",
       "      <th>correlation</th>\n",
       "    </tr>\n",
       "  </thead>\n",
       "  <tbody>\n",
       "    <tr>\n",
       "      <th>2624</th>\n",
       "      <td>POSTAGE</td>\n",
       "      <td>1.000000</td>\n",
       "    </tr>\n",
       "    <tr>\n",
       "      <th>3438</th>\n",
       "      <td>TEA TIME TEA SET IN GIFT BOX</td>\n",
       "      <td>0.162465</td>\n",
       "    </tr>\n",
       "    <tr>\n",
       "      <th>3373</th>\n",
       "      <td>STRAWBERRY FAIRY CAKE TEAPOT</td>\n",
       "      <td>0.150332</td>\n",
       "    </tr>\n",
       "    <tr>\n",
       "      <th>2581</th>\n",
       "      <td>PLASTERS IN TIN CIRCUS PARADE</td>\n",
       "      <td>0.146220</td>\n",
       "    </tr>\n",
       "    <tr>\n",
       "      <th>1499</th>\n",
       "      <td>GREEN GEISHA GIRL</td>\n",
       "      <td>0.109461</td>\n",
       "    </tr>\n",
       "  </tbody>\n",
       "</table>\n",
       "</div>"
      ],
      "text/plain": [
       "                         description  correlation\n",
       "2624                         POSTAGE     1.000000\n",
       "3438    TEA TIME TEA SET IN GIFT BOX     0.162465\n",
       "3373    STRAWBERRY FAIRY CAKE TEAPOT     0.150332\n",
       "2581  PLASTERS IN TIN CIRCUS PARADE      0.146220\n",
       "1499              GREEN GEISHA GIRL      0.109461"
      ]
     },
     "execution_count": 17,
     "metadata": {},
     "output_type": "execute_result"
    }
   ],
   "source": [
    "recommendations = get_recommendations(df_items, 'POSTAGE')\n",
    "recommendations.head()"
   ]
  },
  {
   "cell_type": "markdown",
   "metadata": {},
   "source": [
    "# time series analysis"
   ]
  },
  {
   "cell_type": "code",
   "execution_count": 18,
   "metadata": {},
   "outputs": [
    {
     "name": "stdout",
     "output_type": "stream",
     "text": [
      "(541909, 8)\n"
     ]
    },
    {
     "data": {
      "text/html": [
       "<div>\n",
       "<style scoped>\n",
       "    .dataframe tbody tr th:only-of-type {\n",
       "        vertical-align: middle;\n",
       "    }\n",
       "\n",
       "    .dataframe tbody tr th {\n",
       "        vertical-align: top;\n",
       "    }\n",
       "\n",
       "    .dataframe thead th {\n",
       "        text-align: right;\n",
       "    }\n",
       "</style>\n",
       "<table border=\"1\" class=\"dataframe\">\n",
       "  <thead>\n",
       "    <tr style=\"text-align: right;\">\n",
       "      <th></th>\n",
       "      <th>InvoiceNo</th>\n",
       "      <th>StockCode</th>\n",
       "      <th>Description</th>\n",
       "      <th>Quantity</th>\n",
       "      <th>InvoiceDate</th>\n",
       "      <th>UnitPrice</th>\n",
       "      <th>CustomerID</th>\n",
       "      <th>Country</th>\n",
       "    </tr>\n",
       "  </thead>\n",
       "  <tbody>\n",
       "    <tr>\n",
       "      <th>0</th>\n",
       "      <td>536365</td>\n",
       "      <td>85123A</td>\n",
       "      <td>WHITE HANGING HEART T-LIGHT HOLDER</td>\n",
       "      <td>6</td>\n",
       "      <td>2010-12-01 08:26:00</td>\n",
       "      <td>2.55</td>\n",
       "      <td>17850.0</td>\n",
       "      <td>United Kingdom</td>\n",
       "    </tr>\n",
       "    <tr>\n",
       "      <th>1</th>\n",
       "      <td>536365</td>\n",
       "      <td>71053</td>\n",
       "      <td>WHITE METAL LANTERN</td>\n",
       "      <td>6</td>\n",
       "      <td>2010-12-01 08:26:00</td>\n",
       "      <td>3.39</td>\n",
       "      <td>17850.0</td>\n",
       "      <td>United Kingdom</td>\n",
       "    </tr>\n",
       "    <tr>\n",
       "      <th>2</th>\n",
       "      <td>536365</td>\n",
       "      <td>84406B</td>\n",
       "      <td>CREAM CUPID HEARTS COAT HANGER</td>\n",
       "      <td>8</td>\n",
       "      <td>2010-12-01 08:26:00</td>\n",
       "      <td>2.75</td>\n",
       "      <td>17850.0</td>\n",
       "      <td>United Kingdom</td>\n",
       "    </tr>\n",
       "  </tbody>\n",
       "</table>\n",
       "</div>"
      ],
      "text/plain": [
       "  InvoiceNo StockCode                         Description  Quantity  \\\n",
       "0    536365    85123A  WHITE HANGING HEART T-LIGHT HOLDER         6   \n",
       "1    536365     71053                 WHITE METAL LANTERN         6   \n",
       "2    536365    84406B      CREAM CUPID HEARTS COAT HANGER         8   \n",
       "\n",
       "          InvoiceDate  UnitPrice  CustomerID         Country  \n",
       "0 2010-12-01 08:26:00       2.55     17850.0  United Kingdom  \n",
       "1 2010-12-01 08:26:00       3.39     17850.0  United Kingdom  \n",
       "2 2010-12-01 08:26:00       2.75     17850.0  United Kingdom  "
      ]
     },
     "execution_count": 18,
     "metadata": {},
     "output_type": "execute_result"
    }
   ],
   "source": [
    "import numpy as np\n",
    "import pandas as pd\n",
    "import seaborn as sns\n",
    "import matplotlib.pyplot as plt\n",
    "data = pd.read_csv(\"online_retail.csv\",parse_dates = [\"InvoiceDate\"],encoding='unicode_escape')\n",
    "# data.index = data[\"InvoiceDate\"]\n",
    "print(data.shape)\n",
    "data.head(3)"
   ]
  },
  {
   "cell_type": "code",
   "execution_count": 19,
   "metadata": {},
   "outputs": [
    {
     "data": {
      "text/plain": [
       "United Kingdom    495478\n",
       "Germany             9495\n",
       "France              8557\n",
       "EIRE                8196\n",
       "Spain               2533\n",
       "Netherlands         2371\n",
       "Belgium             2069\n",
       "Switzerland         2002\n",
       "Portugal            1519\n",
       "Australia           1259\n",
       "Name: Country, dtype: int64"
      ]
     },
     "execution_count": 19,
     "metadata": {},
     "output_type": "execute_result"
    }
   ],
   "source": [
    "data[\"Country\"].value_counts().head(10)"
   ]
  },
  {
   "cell_type": "code",
   "execution_count": 20,
   "metadata": {},
   "outputs": [
    {
     "data": {
      "text/plain": [
       "25900"
      ]
     },
     "execution_count": 20,
     "metadata": {},
     "output_type": "execute_result"
    }
   ],
   "source": [
    "data[\"InvoiceNo\"].nunique()"
   ]
  },
  {
   "cell_type": "code",
   "execution_count": 21,
   "metadata": {},
   "outputs": [],
   "source": [
    "df_grp = data[[\"InvoiceNo\", \"InvoiceDate\", \"Country\", \"UnitPrice\"]].groupby([\"InvoiceNo\", \"InvoiceDate\", \"Country\"]).sum().reset_index()\n",
    "df_grp.index = df_grp[\"InvoiceDate\"]\n",
    "df_grp = df_grp.drop([\"InvoiceDate\", \"InvoiceNo\"], axis=1)"
   ]
  },
  {
   "cell_type": "code",
   "execution_count": 22,
   "metadata": {},
   "outputs": [
    {
     "data": {
      "text/html": [
       "<div>\n",
       "<style scoped>\n",
       "    .dataframe tbody tr th:only-of-type {\n",
       "        vertical-align: middle;\n",
       "    }\n",
       "\n",
       "    .dataframe tbody tr th {\n",
       "        vertical-align: top;\n",
       "    }\n",
       "\n",
       "    .dataframe thead th {\n",
       "        text-align: right;\n",
       "    }\n",
       "</style>\n",
       "<table border=\"1\" class=\"dataframe\">\n",
       "  <thead>\n",
       "    <tr style=\"text-align: right;\">\n",
       "      <th></th>\n",
       "      <th>Country</th>\n",
       "      <th>UnitPrice</th>\n",
       "    </tr>\n",
       "    <tr>\n",
       "      <th>InvoiceDate</th>\n",
       "      <th></th>\n",
       "      <th></th>\n",
       "    </tr>\n",
       "  </thead>\n",
       "  <tbody>\n",
       "    <tr>\n",
       "      <th>2010-12-01 08:26:00</th>\n",
       "      <td>United Kingdom</td>\n",
       "      <td>27.37</td>\n",
       "    </tr>\n",
       "    <tr>\n",
       "      <th>2010-12-01 08:28:00</th>\n",
       "      <td>United Kingdom</td>\n",
       "      <td>3.70</td>\n",
       "    </tr>\n",
       "    <tr>\n",
       "      <th>2010-12-01 08:34:00</th>\n",
       "      <td>United Kingdom</td>\n",
       "      <td>58.24</td>\n",
       "    </tr>\n",
       "    <tr>\n",
       "      <th>2010-12-01 08:34:00</th>\n",
       "      <td>United Kingdom</td>\n",
       "      <td>19.10</td>\n",
       "    </tr>\n",
       "    <tr>\n",
       "      <th>2010-12-01 08:35:00</th>\n",
       "      <td>United Kingdom</td>\n",
       "      <td>5.95</td>\n",
       "    </tr>\n",
       "  </tbody>\n",
       "</table>\n",
       "</div>"
      ],
      "text/plain": [
       "                            Country  UnitPrice\n",
       "InvoiceDate                                   \n",
       "2010-12-01 08:26:00  United Kingdom      27.37\n",
       "2010-12-01 08:28:00  United Kingdom       3.70\n",
       "2010-12-01 08:34:00  United Kingdom      58.24\n",
       "2010-12-01 08:34:00  United Kingdom      19.10\n",
       "2010-12-01 08:35:00  United Kingdom       5.95"
      ]
     },
     "execution_count": 22,
     "metadata": {},
     "output_type": "execute_result"
    }
   ],
   "source": [
    "df_grp.head()"
   ]
  },
  {
   "cell_type": "code",
   "execution_count": 23,
   "metadata": {},
   "outputs": [
    {
     "data": {
      "text/plain": [
       "United Kingdom    23534\n",
       "Germany             603\n",
       "France              462\n",
       "EIRE                361\n",
       "Belgium             119\n",
       "Name: Country, dtype: int64"
      ]
     },
     "execution_count": 23,
     "metadata": {},
     "output_type": "execute_result"
    }
   ],
   "source": [
    "df_grp[\"Country\"].value_counts().head()"
   ]
  },
  {
   "cell_type": "code",
   "execution_count": 24,
   "metadata": {},
   "outputs": [
    {
     "data": {
      "text/html": [
       "<div>\n",
       "<style scoped>\n",
       "    .dataframe tbody tr th:only-of-type {\n",
       "        vertical-align: middle;\n",
       "    }\n",
       "\n",
       "    .dataframe tbody tr th {\n",
       "        vertical-align: top;\n",
       "    }\n",
       "\n",
       "    .dataframe thead th {\n",
       "        text-align: right;\n",
       "    }\n",
       "</style>\n",
       "<table border=\"1\" class=\"dataframe\">\n",
       "  <thead>\n",
       "    <tr style=\"text-align: right;\">\n",
       "      <th></th>\n",
       "      <th>UnitPrice</th>\n",
       "    </tr>\n",
       "    <tr>\n",
       "      <th>InvoiceDate</th>\n",
       "      <th></th>\n",
       "    </tr>\n",
       "  </thead>\n",
       "  <tbody>\n",
       "    <tr>\n",
       "      <th>2010-12-01 08:26:00</th>\n",
       "      <td>27.37</td>\n",
       "    </tr>\n",
       "    <tr>\n",
       "      <th>2010-12-01 08:28:00</th>\n",
       "      <td>3.70</td>\n",
       "    </tr>\n",
       "    <tr>\n",
       "      <th>2010-12-01 08:34:00</th>\n",
       "      <td>58.24</td>\n",
       "    </tr>\n",
       "    <tr>\n",
       "      <th>2010-12-01 08:34:00</th>\n",
       "      <td>19.10</td>\n",
       "    </tr>\n",
       "    <tr>\n",
       "      <th>2010-12-01 08:35:00</th>\n",
       "      <td>5.95</td>\n",
       "    </tr>\n",
       "  </tbody>\n",
       "</table>\n",
       "</div>"
      ],
      "text/plain": [
       "                     UnitPrice\n",
       "InvoiceDate                   \n",
       "2010-12-01 08:26:00      27.37\n",
       "2010-12-01 08:28:00       3.70\n",
       "2010-12-01 08:34:00      58.24\n",
       "2010-12-01 08:34:00      19.10\n",
       "2010-12-01 08:35:00       5.95"
      ]
     },
     "execution_count": 24,
     "metadata": {},
     "output_type": "execute_result"
    }
   ],
   "source": [
    "df_1 = df_grp[df_grp[\"Country\"]==\"United Kingdom\"]\n",
    "df_1 = df_1.drop(\"Country\", axis=1)\n",
    "df_1.head()"
   ]
  },
  {
   "cell_type": "code",
   "execution_count": 25,
   "metadata": {},
   "outputs": [
    {
     "name": "stderr",
     "output_type": "stream",
     "text": [
      "<ipython-input-25-89257f013b51>:1: FutureWarning: Value based partial slicing on non-monotonic DatetimeIndexes with non-existing keys is deprecated and will raise a KeyError in a future Version.\n",
      "  df_1 = df_1['2011':]\n"
     ]
    }
   ],
   "source": [
    "\n",
    "df_1 = df_1['2011':]"
   ]
  },
  {
   "cell_type": "code",
   "execution_count": 26,
   "metadata": {},
   "outputs": [],
   "source": [
    "df_1 = df_1[df_1[\"UnitPrice\"]>=0]\n",
    "df_1 = df_1.resample(\"W\").sum()"
   ]
  },
  {
   "cell_type": "code",
   "execution_count": 27,
   "metadata": {},
   "outputs": [
    {
     "data": {
      "text/html": [
       "<div>\n",
       "<style scoped>\n",
       "    .dataframe tbody tr th:only-of-type {\n",
       "        vertical-align: middle;\n",
       "    }\n",
       "\n",
       "    .dataframe tbody tr th {\n",
       "        vertical-align: top;\n",
       "    }\n",
       "\n",
       "    .dataframe thead th {\n",
       "        text-align: right;\n",
       "    }\n",
       "</style>\n",
       "<table border=\"1\" class=\"dataframe\">\n",
       "  <thead>\n",
       "    <tr style=\"text-align: right;\">\n",
       "      <th></th>\n",
       "      <th>UnitPrice</th>\n",
       "    </tr>\n",
       "  </thead>\n",
       "  <tbody>\n",
       "    <tr>\n",
       "      <th>count</th>\n",
       "      <td>49.000000</td>\n",
       "    </tr>\n",
       "    <tr>\n",
       "      <th>mean</th>\n",
       "      <td>41141.157020</td>\n",
       "    </tr>\n",
       "    <tr>\n",
       "      <th>std</th>\n",
       "      <td>17688.119688</td>\n",
       "    </tr>\n",
       "    <tr>\n",
       "      <th>min</th>\n",
       "      <td>17882.680000</td>\n",
       "    </tr>\n",
       "    <tr>\n",
       "      <th>25%</th>\n",
       "      <td>27727.030000</td>\n",
       "    </tr>\n",
       "    <tr>\n",
       "      <th>50%</th>\n",
       "      <td>37043.680000</td>\n",
       "    </tr>\n",
       "    <tr>\n",
       "      <th>75%</th>\n",
       "      <td>48343.020000</td>\n",
       "    </tr>\n",
       "    <tr>\n",
       "      <th>max</th>\n",
       "      <td>103640.580000</td>\n",
       "    </tr>\n",
       "  </tbody>\n",
       "</table>\n",
       "</div>"
      ],
      "text/plain": [
       "           UnitPrice\n",
       "count      49.000000\n",
       "mean    41141.157020\n",
       "std     17688.119688\n",
       "min     17882.680000\n",
       "25%     27727.030000\n",
       "50%     37043.680000\n",
       "75%     48343.020000\n",
       "max    103640.580000"
      ]
     },
     "execution_count": 27,
     "metadata": {},
     "output_type": "execute_result"
    }
   ],
   "source": [
    "df_1.describe()"
   ]
  },
  {
   "cell_type": "markdown",
   "metadata": {},
   "source": [
    "# plot time series data"
   ]
  },
  {
   "cell_type": "code",
   "execution_count": 28,
   "metadata": {},
   "outputs": [
    {
     "data": {
      "image/png": "[encoded data removed]",
      "text/plain": [
       "<Figure size 864x360 with 1 Axes>"
      ]
     },
     "metadata": {
      "needs_background": "light"
     },
     "output_type": "display_data"
    }
   ],
   "source": [
    "df_1.plot(figsize=(12, 5));"
   ]
  },
  {
   "cell_type": "code",
   "execution_count": 29,
   "metadata": {},
   "outputs": [
    {
     "data": {
      "image/png": "[encoded data removed]",
      "text/plain": [
       "<Figure size 432x288 with 1 Axes>"
      ]
     },
     "metadata": {
      "needs_background": "light"
     },
     "output_type": "display_data"
    }
   ],
   "source": [
    "df_1.hist(bins=30);"
   ]
  },
  {
   "cell_type": "code",
   "execution_count": 30,
   "metadata": {},
   "outputs": [
    {
     "data": {
      "text/plain": [
       "<AxesSubplot:xlabel='y(t)', ylabel='y(t + 1)'>"
      ]
     },
     "execution_count": 30,
     "metadata": {},
     "output_type": "execute_result"
    },
    {
     "data": {
      "image/png": "[encoded data removed]",
      "text/plain": [
       "<Figure size 432x288 with 1 Axes>"
      ]
     },
     "metadata": {
      "needs_background": "light"
     },
     "output_type": "display_data"
    }
   ],
   "source": [
    "# lag plot\n",
    "pd.plotting.lag_plot(df_1)"
   ]
  },
  {
   "cell_type": "code",
   "execution_count": 31,
   "metadata": {},
   "outputs": [],
   "source": [
    "n_lags = 4\n",
    "lags_df = [df_1[\"UnitPrice\"]]\n",
    "for n in range(1, n_lags+1):\n",
    "    lags_df.append(df_1[\"UnitPrice\"].shift(n))\n",
    "lags_df = pd.concat(lags_df, axis=1)\n",
    "lags_df.columns = [\"base\"] + [f\"lag_{i}\" for i in range(1, n_lags+1)]\n"
   ]
  },
  {
   "cell_type": "code",
   "execution_count": 32,
   "metadata": {},
   "outputs": [
    {
     "data": {
      "text/html": [
       "<div>\n",
       "<style scoped>\n",
       "    .dataframe tbody tr th:only-of-type {\n",
       "        vertical-align: middle;\n",
       "    }\n",
       "\n",
       "    .dataframe tbody tr th {\n",
       "        vertical-align: top;\n",
       "    }\n",
       "\n",
       "    .dataframe thead th {\n",
       "        text-align: right;\n",
       "    }\n",
       "</style>\n",
       "<table border=\"1\" class=\"dataframe\">\n",
       "  <thead>\n",
       "    <tr style=\"text-align: right;\">\n",
       "      <th></th>\n",
       "      <th>base</th>\n",
       "      <th>lag_1</th>\n",
       "      <th>lag_2</th>\n",
       "      <th>lag_3</th>\n",
       "      <th>lag_4</th>\n",
       "    </tr>\n",
       "    <tr>\n",
       "      <th>InvoiceDate</th>\n",
       "      <th></th>\n",
       "      <th></th>\n",
       "      <th></th>\n",
       "      <th></th>\n",
       "      <th></th>\n",
       "    </tr>\n",
       "  </thead>\n",
       "  <tbody>\n",
       "    <tr>\n",
       "      <th>2011-01-09</th>\n",
       "      <td>57541.340</td>\n",
       "      <td>NaN</td>\n",
       "      <td>NaN</td>\n",
       "      <td>NaN</td>\n",
       "      <td>NaN</td>\n",
       "    </tr>\n",
       "    <tr>\n",
       "      <th>2011-01-16</th>\n",
       "      <td>32144.850</td>\n",
       "      <td>57541.340</td>\n",
       "      <td>NaN</td>\n",
       "      <td>NaN</td>\n",
       "      <td>NaN</td>\n",
       "    </tr>\n",
       "    <tr>\n",
       "      <th>2011-01-23</th>\n",
       "      <td>36311.250</td>\n",
       "      <td>32144.850</td>\n",
       "      <td>57541.340</td>\n",
       "      <td>NaN</td>\n",
       "      <td>NaN</td>\n",
       "    </tr>\n",
       "    <tr>\n",
       "      <th>2011-01-30</th>\n",
       "      <td>26969.650</td>\n",
       "      <td>36311.250</td>\n",
       "      <td>32144.850</td>\n",
       "      <td>57541.340</td>\n",
       "      <td>NaN</td>\n",
       "    </tr>\n",
       "    <tr>\n",
       "      <th>2011-02-06</th>\n",
       "      <td>25949.830</td>\n",
       "      <td>26969.650</td>\n",
       "      <td>36311.250</td>\n",
       "      <td>32144.850</td>\n",
       "      <td>57541.340</td>\n",
       "    </tr>\n",
       "    <tr>\n",
       "      <th>2011-02-13</th>\n",
       "      <td>24244.620</td>\n",
       "      <td>25949.830</td>\n",
       "      <td>26969.650</td>\n",
       "      <td>36311.250</td>\n",
       "      <td>32144.850</td>\n",
       "    </tr>\n",
       "    <tr>\n",
       "      <th>2011-02-20</th>\n",
       "      <td>26918.790</td>\n",
       "      <td>24244.620</td>\n",
       "      <td>25949.830</td>\n",
       "      <td>26969.650</td>\n",
       "      <td>36311.250</td>\n",
       "    </tr>\n",
       "    <tr>\n",
       "      <th>2011-02-27</th>\n",
       "      <td>38886.610</td>\n",
       "      <td>26918.790</td>\n",
       "      <td>24244.620</td>\n",
       "      <td>25949.830</td>\n",
       "      <td>26969.650</td>\n",
       "    </tr>\n",
       "    <tr>\n",
       "      <th>2011-03-06</th>\n",
       "      <td>25715.700</td>\n",
       "      <td>38886.610</td>\n",
       "      <td>26918.790</td>\n",
       "      <td>24244.620</td>\n",
       "      <td>25949.830</td>\n",
       "    </tr>\n",
       "    <tr>\n",
       "      <th>2011-03-13</th>\n",
       "      <td>27727.030</td>\n",
       "      <td>25715.700</td>\n",
       "      <td>38886.610</td>\n",
       "      <td>26918.790</td>\n",
       "      <td>24244.620</td>\n",
       "    </tr>\n",
       "    <tr>\n",
       "      <th>2011-03-20</th>\n",
       "      <td>40617.170</td>\n",
       "      <td>27727.030</td>\n",
       "      <td>25715.700</td>\n",
       "      <td>38886.610</td>\n",
       "      <td>26918.790</td>\n",
       "    </tr>\n",
       "    <tr>\n",
       "      <th>2011-03-27</th>\n",
       "      <td>27973.950</td>\n",
       "      <td>40617.170</td>\n",
       "      <td>27727.030</td>\n",
       "      <td>25715.700</td>\n",
       "      <td>38886.610</td>\n",
       "    </tr>\n",
       "    <tr>\n",
       "      <th>2011-04-03</th>\n",
       "      <td>37024.360</td>\n",
       "      <td>27973.950</td>\n",
       "      <td>40617.170</td>\n",
       "      <td>27727.030</td>\n",
       "      <td>25715.700</td>\n",
       "    </tr>\n",
       "    <tr>\n",
       "      <th>2011-04-10</th>\n",
       "      <td>29141.700</td>\n",
       "      <td>37024.360</td>\n",
       "      <td>27973.950</td>\n",
       "      <td>40617.170</td>\n",
       "      <td>27727.030</td>\n",
       "    </tr>\n",
       "    <tr>\n",
       "      <th>2011-04-17</th>\n",
       "      <td>24909.931</td>\n",
       "      <td>29141.700</td>\n",
       "      <td>37024.360</td>\n",
       "      <td>27973.950</td>\n",
       "      <td>40617.170</td>\n",
       "    </tr>\n",
       "    <tr>\n",
       "      <th>2011-04-24</th>\n",
       "      <td>30336.220</td>\n",
       "      <td>24909.931</td>\n",
       "      <td>29141.700</td>\n",
       "      <td>37024.360</td>\n",
       "      <td>27973.950</td>\n",
       "    </tr>\n",
       "    <tr>\n",
       "      <th>2011-05-01</th>\n",
       "      <td>17882.680</td>\n",
       "      <td>30336.220</td>\n",
       "      <td>24909.931</td>\n",
       "      <td>29141.700</td>\n",
       "      <td>37024.360</td>\n",
       "    </tr>\n",
       "    <tr>\n",
       "      <th>2011-05-08</th>\n",
       "      <td>48189.830</td>\n",
       "      <td>17882.680</td>\n",
       "      <td>30336.220</td>\n",
       "      <td>24909.931</td>\n",
       "      <td>29141.700</td>\n",
       "    </tr>\n",
       "    <tr>\n",
       "      <th>2011-05-15</th>\n",
       "      <td>41260.150</td>\n",
       "      <td>48189.830</td>\n",
       "      <td>17882.680</td>\n",
       "      <td>30336.220</td>\n",
       "      <td>24909.931</td>\n",
       "    </tr>\n",
       "    <tr>\n",
       "      <th>2011-05-22</th>\n",
       "      <td>48343.020</td>\n",
       "      <td>41260.150</td>\n",
       "      <td>48189.830</td>\n",
       "      <td>17882.680</td>\n",
       "      <td>30336.220</td>\n",
       "    </tr>\n",
       "    <tr>\n",
       "      <th>2011-05-29</th>\n",
       "      <td>27077.890</td>\n",
       "      <td>48343.020</td>\n",
       "      <td>41260.150</td>\n",
       "      <td>48189.830</td>\n",
       "      <td>17882.680</td>\n",
       "    </tr>\n",
       "    <tr>\n",
       "      <th>2011-06-05</th>\n",
       "      <td>23639.340</td>\n",
       "      <td>27077.890</td>\n",
       "      <td>48343.020</td>\n",
       "      <td>41260.150</td>\n",
       "      <td>48189.830</td>\n",
       "    </tr>\n",
       "    <tr>\n",
       "      <th>2011-06-12</th>\n",
       "      <td>74554.530</td>\n",
       "      <td>23639.340</td>\n",
       "      <td>27077.890</td>\n",
       "      <td>48343.020</td>\n",
       "      <td>41260.150</td>\n",
       "    </tr>\n",
       "    <tr>\n",
       "      <th>2011-06-19</th>\n",
       "      <td>28551.890</td>\n",
       "      <td>74554.530</td>\n",
       "      <td>23639.340</td>\n",
       "      <td>27077.890</td>\n",
       "      <td>48343.020</td>\n",
       "    </tr>\n",
       "    <tr>\n",
       "      <th>2011-06-26</th>\n",
       "      <td>38175.150</td>\n",
       "      <td>28551.890</td>\n",
       "      <td>74554.530</td>\n",
       "      <td>23639.340</td>\n",
       "      <td>27077.890</td>\n",
       "    </tr>\n",
       "    <tr>\n",
       "      <th>2011-07-03</th>\n",
       "      <td>24087.450</td>\n",
       "      <td>38175.150</td>\n",
       "      <td>28551.890</td>\n",
       "      <td>74554.530</td>\n",
       "      <td>23639.340</td>\n",
       "    </tr>\n",
       "    <tr>\n",
       "      <th>2011-07-10</th>\n",
       "      <td>37043.680</td>\n",
       "      <td>24087.450</td>\n",
       "      <td>38175.150</td>\n",
       "      <td>28551.890</td>\n",
       "      <td>74554.530</td>\n",
       "    </tr>\n",
       "    <tr>\n",
       "      <th>2011-07-17</th>\n",
       "      <td>37416.860</td>\n",
       "      <td>37043.680</td>\n",
       "      <td>24087.450</td>\n",
       "      <td>38175.150</td>\n",
       "      <td>28551.890</td>\n",
       "    </tr>\n",
       "    <tr>\n",
       "      <th>2011-07-24</th>\n",
       "      <td>54500.440</td>\n",
       "      <td>37416.860</td>\n",
       "      <td>37043.680</td>\n",
       "      <td>24087.450</td>\n",
       "      <td>38175.150</td>\n",
       "    </tr>\n",
       "    <tr>\n",
       "      <th>2011-07-31</th>\n",
       "      <td>24771.901</td>\n",
       "      <td>54500.440</td>\n",
       "      <td>37416.860</td>\n",
       "      <td>37043.680</td>\n",
       "      <td>24087.450</td>\n",
       "    </tr>\n",
       "    <tr>\n",
       "      <th>2011-08-07</th>\n",
       "      <td>34655.000</td>\n",
       "      <td>24771.901</td>\n",
       "      <td>54500.440</td>\n",
       "      <td>37416.860</td>\n",
       "      <td>37043.680</td>\n",
       "    </tr>\n",
       "    <tr>\n",
       "      <th>2011-08-14</th>\n",
       "      <td>46592.540</td>\n",
       "      <td>34655.000</td>\n",
       "      <td>24771.901</td>\n",
       "      <td>54500.440</td>\n",
       "      <td>37416.860</td>\n",
       "    </tr>\n",
       "    <tr>\n",
       "      <th>2011-08-21</th>\n",
       "      <td>20727.670</td>\n",
       "      <td>46592.540</td>\n",
       "      <td>34655.000</td>\n",
       "      <td>24771.901</td>\n",
       "      <td>54500.440</td>\n",
       "    </tr>\n",
       "    <tr>\n",
       "      <th>2011-08-28</th>\n",
       "      <td>33398.680</td>\n",
       "      <td>20727.670</td>\n",
       "      <td>46592.540</td>\n",
       "      <td>34655.000</td>\n",
       "      <td>24771.901</td>\n",
       "    </tr>\n",
       "    <tr>\n",
       "      <th>2011-09-04</th>\n",
       "      <td>37263.890</td>\n",
       "      <td>33398.680</td>\n",
       "      <td>20727.670</td>\n",
       "      <td>46592.540</td>\n",
       "      <td>34655.000</td>\n",
       "    </tr>\n",
       "    <tr>\n",
       "      <th>2011-09-11</th>\n",
       "      <td>30876.940</td>\n",
       "      <td>37263.890</td>\n",
       "      <td>33398.680</td>\n",
       "      <td>20727.670</td>\n",
       "      <td>46592.540</td>\n",
       "    </tr>\n",
       "    <tr>\n",
       "      <th>2011-09-18</th>\n",
       "      <td>53319.300</td>\n",
       "      <td>30876.940</td>\n",
       "      <td>37263.890</td>\n",
       "      <td>33398.680</td>\n",
       "      <td>20727.670</td>\n",
       "    </tr>\n",
       "    <tr>\n",
       "      <th>2011-09-25</th>\n",
       "      <td>43321.291</td>\n",
       "      <td>53319.300</td>\n",
       "      <td>30876.940</td>\n",
       "      <td>37263.890</td>\n",
       "      <td>33398.680</td>\n",
       "    </tr>\n",
       "    <tr>\n",
       "      <th>2011-10-02</th>\n",
       "      <td>36921.141</td>\n",
       "      <td>43321.291</td>\n",
       "      <td>53319.300</td>\n",
       "      <td>30876.940</td>\n",
       "      <td>37263.890</td>\n",
       "    </tr>\n",
       "    <tr>\n",
       "      <th>2011-10-09</th>\n",
       "      <td>52407.950</td>\n",
       "      <td>36921.141</td>\n",
       "      <td>43321.291</td>\n",
       "      <td>53319.300</td>\n",
       "      <td>30876.940</td>\n",
       "    </tr>\n",
       "    <tr>\n",
       "      <th>2011-10-16</th>\n",
       "      <td>42438.530</td>\n",
       "      <td>52407.950</td>\n",
       "      <td>36921.141</td>\n",
       "      <td>43321.291</td>\n",
       "      <td>53319.300</td>\n",
       "    </tr>\n",
       "    <tr>\n",
       "      <th>2011-10-23</th>\n",
       "      <td>40228.430</td>\n",
       "      <td>42438.530</td>\n",
       "      <td>52407.950</td>\n",
       "      <td>36921.141</td>\n",
       "      <td>43321.291</td>\n",
       "    </tr>\n",
       "    <tr>\n",
       "      <th>2011-10-30</th>\n",
       "      <td>49458.660</td>\n",
       "      <td>40228.430</td>\n",
       "      <td>42438.530</td>\n",
       "      <td>52407.950</td>\n",
       "      <td>36921.141</td>\n",
       "    </tr>\n",
       "    <tr>\n",
       "      <th>2011-11-06</th>\n",
       "      <td>63324.150</td>\n",
       "      <td>49458.660</td>\n",
       "      <td>40228.430</td>\n",
       "      <td>42438.530</td>\n",
       "      <td>52407.950</td>\n",
       "    </tr>\n",
       "    <tr>\n",
       "      <th>2011-11-13</th>\n",
       "      <td>78353.610</td>\n",
       "      <td>63324.150</td>\n",
       "      <td>49458.660</td>\n",
       "      <td>40228.430</td>\n",
       "      <td>42438.530</td>\n",
       "    </tr>\n",
       "    <tr>\n",
       "      <th>2011-11-20</th>\n",
       "      <td>72168.310</td>\n",
       "      <td>78353.610</td>\n",
       "      <td>63324.150</td>\n",
       "      <td>49458.660</td>\n",
       "      <td>40228.430</td>\n",
       "    </tr>\n",
       "    <tr>\n",
       "      <th>2011-11-27</th>\n",
       "      <td>68562.320</td>\n",
       "      <td>72168.310</td>\n",
       "      <td>78353.610</td>\n",
       "      <td>63324.150</td>\n",
       "      <td>49458.660</td>\n",
       "    </tr>\n",
       "    <tr>\n",
       "      <th>2011-12-04</th>\n",
       "      <td>70349.890</td>\n",
       "      <td>68562.320</td>\n",
       "      <td>72168.310</td>\n",
       "      <td>78353.610</td>\n",
       "      <td>63324.150</td>\n",
       "    </tr>\n",
       "    <tr>\n",
       "      <th>2011-12-11</th>\n",
       "      <td>103640.580</td>\n",
       "      <td>70349.890</td>\n",
       "      <td>68562.320</td>\n",
       "      <td>72168.310</td>\n",
       "      <td>78353.610</td>\n",
       "    </tr>\n",
       "  </tbody>\n",
       "</table>\n",
       "</div>"
      ],
      "text/plain": [
       "                   base      lag_1      lag_2      lag_3      lag_4\n",
       "InvoiceDate                                                        \n",
       "2011-01-09    57541.340        NaN        NaN        NaN        NaN\n",
       "2011-01-16    32144.850  57541.340        NaN        NaN        NaN\n",
       "2011-01-23    36311.250  32144.850  57541.340        NaN        NaN\n",
       "2011-01-30    26969.650  36311.250  32144.850  57541.340        NaN\n",
       "2011-02-06    25949.830  26969.650  36311.250  32144.850  57541.340\n",
       "2011-02-13    24244.620  25949.830  26969.650  36311.250  32144.850\n",
       "2011-02-20    26918.790  24244.620  25949.830  26969.650  36311.250\n",
       "2011-02-27    38886.610  26918.790  24244.620  25949.830  26969.650\n",
       "2011-03-06    25715.700  38886.610  26918.790  24244.620  25949.830\n",
       "2011-03-13    27727.030  25715.700  38886.610  26918.790  24244.620\n",
       "2011-03-20    40617.170  27727.030  25715.700  38886.610  26918.790\n",
       "2011-03-27    27973.950  40617.170  27727.030  25715.700  38886.610\n",
       "2011-04-03    37024.360  27973.950  40617.170  27727.030  25715.700\n",
       "2011-04-10    29141.700  37024.360  27973.950  40617.170  27727.030\n",
       "2011-04-17    24909.931  29141.700  37024.360  27973.950  40617.170\n",
       "2011-04-24    30336.220  24909.931  29141.700  37024.360  27973.950\n",
       "2011-05-01    17882.680  30336.220  24909.931  29141.700  37024.360\n",
       "2011-05-08    48189.830  17882.680  30336.220  24909.931  29141.700\n",
       "2011-05-15    41260.150  48189.830  17882.680  30336.220  24909.931\n",
       "2011-05-22    48343.020  41260.150  48189.830  17882.680  30336.220\n",
       "2011-05-29    27077.890  48343.020  41260.150  48189.830  17882.680\n",
       "2011-06-05    23639.340  27077.890  48343.020  41260.150  48189.830\n",
       "2011-06-12    74554.530  23639.340  27077.890  48343.020  41260.150\n",
       "2011-06-19    28551.890  74554.530  23639.340  27077.890  48343.020\n",
       "2011-06-26    38175.150  28551.890  74554.530  23639.340  27077.890\n",
       "2011-07-03    24087.450  38175.150  28551.890  74554.530  23639.340\n",
       "2011-07-10    37043.680  24087.450  38175.150  28551.890  74554.530\n",
       "2011-07-17    37416.860  37043.680  24087.450  38175.150  28551.890\n",
       "2011-07-24    54500.440  37416.860  37043.680  24087.450  38175.150\n",
       "2011-07-31    24771.901  54500.440  37416.860  37043.680  24087.450\n",
       "2011-08-07    34655.000  24771.901  54500.440  37416.860  37043.680\n",
       "2011-08-14    46592.540  34655.000  24771.901  54500.440  37416.860\n",
       "2011-08-21    20727.670  46592.540  34655.000  24771.901  54500.440\n",
       "2011-08-28    33398.680  20727.670  46592.540  34655.000  24771.901\n",
       "2011-09-04    37263.890  33398.680  20727.670  46592.540  34655.000\n",
       "2011-09-11    30876.940  37263.890  33398.680  20727.670  46592.540\n",
       "2011-09-18    53319.300  30876.940  37263.890  33398.680  20727.670\n",
       "2011-09-25    43321.291  53319.300  30876.940  37263.890  33398.680\n",
       "2011-10-02    36921.141  43321.291  53319.300  30876.940  37263.890\n",
       "2011-10-09    52407.950  36921.141  43321.291  53319.300  30876.940\n",
       "2011-10-16    42438.530  52407.950  36921.141  43321.291  53319.300\n",
       "2011-10-23    40228.430  42438.530  52407.950  36921.141  43321.291\n",
       "2011-10-30    49458.660  40228.430  42438.530  52407.950  36921.141\n",
       "2011-11-06    63324.150  49458.660  40228.430  42438.530  52407.950\n",
       "2011-11-13    78353.610  63324.150  49458.660  40228.430  42438.530\n",
       "2011-11-20    72168.310  78353.610  63324.150  49458.660  40228.430\n",
       "2011-11-27    68562.320  72168.310  78353.610  63324.150  49458.660\n",
       "2011-12-04    70349.890  68562.320  72168.310  78353.610  63324.150\n",
       "2011-12-11   103640.580  70349.890  68562.320  72168.310  78353.610"
      ]
     },
     "execution_count": 32,
     "metadata": {},
     "output_type": "execute_result"
    }
   ],
   "source": [
    "lags_df"
   ]
  },
  {
   "cell_type": "code",
   "execution_count": 33,
   "metadata": {},
   "outputs": [
    {
     "data": {
      "image/png": "[encoded data removed]",
      "text/plain": [
       "<Figure size 864x504 with 4 Axes>"
      ]
     },
     "metadata": {
      "needs_background": "light"
     },
     "output_type": "display_data"
    }
   ],
   "source": [
    "plt.figure(figsize=(12, 7))\n",
    "for i in range(1, n_lags+1):\n",
    "    ax = plt.subplot(int(f\"22{i}\"))\n",
    "    ax.set_title(f\"lag_{i}\")\n",
    "    plt.scatter(lags_df[\"base\"], lags_df[f\"lag_{i}\"])"
   ]
  },
  {
   "cell_type": "code",
   "execution_count": 34,
   "metadata": {},
   "outputs": [
    {
     "data": {
      "image/png": "[encoded data removed]",
      "text/plain": [
       "<Figure size 432x288 with 1 Axes>"
      ]
     },
     "metadata": {
      "needs_background": "light"
     },
     "output_type": "display_data"
    }
   ],
   "source": [
    "# autocorrelation plot\n",
    "pd.plotting.autocorrelation_plot(df_1);"
   ]
  },
  {
   "cell_type": "code",
   "execution_count": 35,
   "metadata": {},
   "outputs": [
    {
     "name": "stderr",
     "output_type": "stream",
     "text": [
      "C:\\Users\\WIN\\anaconda3\\lib\\site-packages\\statsmodels\\tsa\\base\\tsa_model.py:7: FutureWarning: pandas.Int64Index is deprecated and will be removed from pandas in a future version. Use pandas.Index with the appropriate dtype instead.\n",
      "  from pandas import (to_datetime, Int64Index, DatetimeIndex, Period,\n",
      "C:\\Users\\WIN\\anaconda3\\lib\\site-packages\\statsmodels\\tsa\\base\\tsa_model.py:7: FutureWarning: pandas.Float64Index is deprecated and will be removed from pandas in a future version. Use pandas.Index with the appropriate dtype instead.\n",
      "  from pandas import (to_datetime, Int64Index, DatetimeIndex, Period,\n"
     ]
    }
   ],
   "source": [
    "from statsmodels.graphics.tsaplots import plot_acf"
   ]
  },
  {
   "cell_type": "code",
   "execution_count": 36,
   "metadata": {},
   "outputs": [
    {
     "data": {
      "image/png": "[encoded data removed]",
      "text/plain": [
       "<Figure size 432x288 with 1 Axes>"
      ]
     },
     "metadata": {
      "needs_background": "light"
     },
     "output_type": "display_data"
    }
   ],
   "source": [
    "plot_acf(df_1[\"UnitPrice\"].values);"
   ]
  },
  {
   "cell_type": "code",
   "execution_count": 57,
   "metadata": {},
   "outputs": [
    {
     "data": {
      "image/png": "[encoded data removed]",
      "text/plain": [
       "<Figure size 432x288 with 4 Axes>"
      ]
     },
     "metadata": {
      "needs_background": "light"
     },
     "output_type": "display_data"
    }
   ],
   "source": [
    "from statsmodels.tsa.seasonal import STL\n",
    "\n",
    "stl_res = STL(df_1[\"UnitPrice\"].values, period=5).fit()\n",
    "stl_res.plot();"
   ]
  },
  {
   "cell_type": "code",
   "execution_count": 39,
   "metadata": {},
   "outputs": [
    {
     "data": {
      "text/plain": [
       "<function sklearn.metrics._regression.r2_score(y_true, y_pred, *, sample_weight=None, multioutput='uniform_average', force_finite=True)>"
      ]
     },
     "execution_count": 39,
     "metadata": {},
     "output_type": "execute_result"
    }
   ],
   "source": [
    "import sklearn\n",
    "from sklearn import metrics\n",
    "sklearn.metrics.r2_score"
   ]
  },
  {
   "cell_type": "code",
   "execution_count": 40,
   "metadata": {},
   "outputs": [
    {
     "data": {
      "text/plain": [
       "<function sklearn.metrics._regression.mean_absolute_error(y_true, y_pred, *, sample_weight=None, multioutput='uniform_average')>"
      ]
     },
     "execution_count": 40,
     "metadata": {},
     "output_type": "execute_result"
    }
   ],
   "source": [
    "sklearn.metrics.mean_absolute_error"
   ]
  },
  {
   "cell_type": "code",
   "execution_count": 41,
   "metadata": {},
   "outputs": [
    {
     "data": {
      "text/plain": [
       "<function sklearn.metrics._regression.median_absolute_error(y_true, y_pred, *, multioutput='uniform_average', sample_weight=None)>"
      ]
     },
     "execution_count": 41,
     "metadata": {},
     "output_type": "execute_result"
    }
   ],
   "source": [
    "sklearn.metrics.median_absolute_error"
   ]
  },
  {
   "cell_type": "code",
   "execution_count": 42,
   "metadata": {},
   "outputs": [
    {
     "data": {
      "text/plain": [
       "<function sklearn.metrics._regression.mean_squared_error(y_true, y_pred, *, sample_weight=None, multioutput='uniform_average', squared=True)>"
      ]
     },
     "execution_count": 42,
     "metadata": {},
     "output_type": "execute_result"
    }
   ],
   "source": [
    "sklearn.metrics.mean_squared_error"
   ]
  },
  {
   "cell_type": "code",
   "execution_count": 43,
   "metadata": {},
   "outputs": [
    {
     "data": {
      "text/plain": [
       "<function sklearn.metrics._regression.mean_squared_log_error(y_true, y_pred, *, sample_weight=None, multioutput='uniform_average', squared=True)>"
      ]
     },
     "execution_count": 43,
     "metadata": {},
     "output_type": "execute_result"
    }
   ],
   "source": [
    "sklearn.metrics.mean_squared_log_error"
   ]
  },
  {
   "cell_type": "code",
   "execution_count": 44,
   "metadata": {},
   "outputs": [],
   "source": [
    "def mean_absolute_percentage_error(y_true, y_pred): \n",
    "    return np.mean(np.abs((y_true - y_pred) / y_true)) * 100"
   ]
  },
  {
   "cell_type": "code",
   "execution_count": 45,
   "metadata": {},
   "outputs": [],
   "source": [
    "# Importing everything from above\n",
    "\n",
    "from sklearn.metrics import r2_score, median_absolute_error, mean_absolute_error\n",
    "from sklearn.metrics import median_absolute_error, mean_squared_error, mean_squared_log_error\n",
    "\n",
    "def mean_absolute_percentage_error(y_true, y_pred): \n",
    "    return np.mean(np.abs((y_true - y_pred) / y_true)) * 100"
   ]
  },
  {
   "cell_type": "code",
   "execution_count": 46,
   "metadata": {},
   "outputs": [
    {
     "data": {
      "text/plain": [
       "48159.550541666664"
      ]
     },
     "execution_count": 46,
     "metadata": {},
     "output_type": "execute_result"
    }
   ],
   "source": [
    "def moving_average(series, n):\n",
    "    \"\"\"\n",
    "        Calculate average of last n observations\n",
    "    \"\"\"\n",
    "    return np.average(series[-n:])\n",
    "\n",
    "moving_average(df_1, 24) # prediction for the last observed day (past 24 hours)"
   ]
  },
  {
   "cell_type": "code",
   "execution_count": 47,
   "metadata": {},
   "outputs": [],
   "source": [
    "def plotMovingAverage(series, window, plot_intervals=False, scale=1.96, plot_anomalies=False):\n",
    "\n",
    "    \"\"\"\n",
    "        series - dataframe with timeseries\n",
    "        window - rolling window size \n",
    "        plot_intervals - show confidence intervals\n",
    "        plot_anomalies - show anomalies \n",
    "\n",
    "    \"\"\"\n",
    "    rolling_mean = series.rolling(window=window).mean()\n",
    "\n",
    "    plt.figure(figsize=(15,5))\n",
    "    plt.title(\"Moving average\\n window size = {}\".format(window))\n",
    "    plt.plot(rolling_mean, \"g\", label=\"Rolling mean trend\")\n",
    "\n",
    "    # Plot confidence intervals for smoothed values\n",
    "    if plot_intervals:\n",
    "        mae = mean_absolute_error(series[window:], rolling_mean[window:])\n",
    "        deviation = np.std(series[window:] - rolling_mean[window:])\n",
    "        lower_bond = rolling_mean - (mae + scale * deviation)\n",
    "        upper_bond = rolling_mean + (mae + scale * deviation)\n",
    "        plt.plot(upper_bond, \"r--\", label=\"Upper Bond / Lower Bond\")\n",
    "        plt.plot(lower_bond, \"r--\")\n",
    "        \n",
    "        # Having the intervals, find abnormal values\n",
    "        if plot_anomalies:\n",
    "            anomalies = pd.DataFrame(index=series.index, columns=series.columns)\n",
    "            anomalies[series<lower_bond] = series[series<lower_bond]\n",
    "            anomalies[series>upper_bond] = series[series>upper_bond]\n",
    "            plt.plot(anomalies, \"ro\", markersize=10)\n",
    "        \n",
    "    plt.plot(series[window:], label=\"Actual values\")\n",
    "    plt.legend(loc=\"upper left\")\n",
    "    plt.grid(True)"
   ]
  },
  {
   "cell_type": "code",
   "execution_count": 48,
   "metadata": {},
   "outputs": [
    {
     "data": {
      "image/png": "[encoded data removed]",
      "text/plain": [
       "<Figure size 1080x360 with 1 Axes>"
      ]
     },
     "metadata": {
      "needs_background": "light"
     },
     "output_type": "display_data"
    }
   ],
   "source": [
    "plotMovingAverage(df_1, 4) "
   ]
  },
  {
   "cell_type": "code",
   "execution_count": 49,
   "metadata": {},
   "outputs": [
    {
     "data": {
      "image/png": "[encoded data removed]",
      "text/plain": [
       "<Figure size 1080x360 with 1 Axes>"
      ]
     },
     "metadata": {
      "needs_background": "light"
     },
     "output_type": "display_data"
    }
   ],
   "source": [
    "plotMovingAverage(df_1, 12) "
   ]
  },
  {
   "cell_type": "code",
   "execution_count": 50,
   "metadata": {},
   "outputs": [
    {
     "data": {
      "image/png": "[encoded data removed]",
      "text/plain": [
       "<Figure size 1080x360 with 1 Axes>"
      ]
     },
     "metadata": {
      "needs_background": "light"
     },
     "output_type": "display_data"
    }
   ],
   "source": [
    "plotMovingAverage(df_1, 24)"
   ]
  },
  {
   "cell_type": "code",
   "execution_count": 51,
   "metadata": {},
   "outputs": [
    {
     "data": {
      "image/png": "[encoded data removed]",
      "text/plain": [
       "<Figure size 1080x360 with 1 Axes>"
      ]
     },
     "metadata": {
      "needs_background": "light"
     },
     "output_type": "display_data"
    }
   ],
   "source": [
    "plotMovingAverage(df_1, 4, plot_intervals=True)"
   ]
  },
  {
   "cell_type": "markdown",
   "metadata": {},
   "source": [
    "# Anomaly detection"
   ]
  },
  {
   "cell_type": "code",
   "execution_count": 52,
   "metadata": {},
   "outputs": [],
   "source": [
    "df_1_anomaly = df_1.copy()\n",
    "df_1_anomaly.iloc[-20] = df_1_anomaly.iloc[-20] * 0.2"
   ]
  },
  {
   "cell_type": "code",
   "execution_count": 53,
   "metadata": {},
   "outputs": [
    {
     "data": {
      "image/png": "[encoded data removed]",
      "text/plain": [
       "<Figure size 1080x360 with 1 Axes>"
      ]
     },
     "metadata": {
      "needs_background": "light"
     },
     "output_type": "display_data"
    }
   ],
   "source": [
    "plotMovingAverage(df_1_anomaly, 4, plot_intervals=True, plot_anomalies=True)"
   ]
  },
  {
   "cell_type": "code",
   "execution_count": 54,
   "metadata": {},
   "outputs": [],
   "source": [
    "def weighted_average(series, weights):\n",
    "    \"\"\"\n",
    "        Calculate weighted average on the series.\n",
    "        Assuming weights are sorted in descending order\n",
    "        (larger weights are assigned to more recent observations).\n",
    "    \"\"\"\n",
    "    result = 0.0\n",
    "    for n in range(len(weights)):\n",
    "        result += series.iloc[-n-1] * weights[n]\n",
    "    return float(result)"
   ]
  },
  {
   "cell_type": "code",
   "execution_count": 55,
   "metadata": {},
   "outputs": [
    {
     "data": {
      "text/plain": [
       "90145.547"
      ]
     },
     "execution_count": 55,
     "metadata": {},
     "output_type": "execute_result"
    }
   ],
   "source": [
    "weighted_average(df_1, [0.6, 0.3, 0.1])"
   ]
  },
  {
   "cell_type": "code",
   "execution_count": null,
   "metadata": {},
   "outputs": [],
   "source": []
  }
 ],
 "metadata": {
  "kernelspec": {
   "display_name": "Python 3",
   "language": "python",
   "name": "python3"
  },
  "language_info": {
   "codemirror_mode": {
    "name": "ipython",
    "version": 3
   },
   "file_extension": ".py",
   "mimetype": "text/x-python",
   "name": "python",
   "nbconvert_exporter": "python",
   "pygments_lexer": "ipython3",
   "version": "3.8.5"
  }
 },
 "nbformat": 4,
 "nbformat_minor": 4
}
